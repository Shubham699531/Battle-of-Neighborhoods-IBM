{
    "cells": [
        {
            "cell_type": "markdown",
            "metadata": {},
            "source": "## Step 0: Import libraries"
        },
        {
            "cell_type": "code",
            "execution_count": 1,
            "metadata": {},
            "outputs": [],
            "source": "# Importing the essential libraries\nimport requests    # to use get method of requests library to send a GET request\nimport pandas as pd     # to organize the data into dataframes\nfrom bs4 import BeautifulSoup    # to parse html web pages"
        },
        {
            "cell_type": "markdown",
            "metadata": {},
            "source": "## Step 1: Send a get request to Wikipedia page"
        },
        {
            "cell_type": "code",
            "execution_count": 2,
            "metadata": {},
            "outputs": [],
            "source": "#Sending a GET request to 'https://en.wikipedia.org/wiki/List_of_postal_codes_of_Canada:_M'\nresponse = requests.get('https://en.wikipedia.org/wiki/List_of_postal_codes_of_Canada:_M')"
        },
        {
            "cell_type": "markdown",
            "metadata": {},
            "source": "## Step 2: Parsing the output html page"
        },
        {
            "cell_type": "code",
            "execution_count": 3,
            "metadata": {},
            "outputs": [],
            "source": "# Parsing the output using BeautifulSoup and html parser\ncomplete_soup = BeautifulSoup(response.content, 'html.parser')\n\n# Extracting the wikipedia postal index table\ntable = complete_soup.find('table', class_ = 'wikitable sortable')\n\n# Find all the table headings using 'th' tags i.e. Postal Code, Borough, Neighbourhood\ntable_headings = table.find_all('th')\n\n# Storing table headings in 'indexes' array and stripping any unwanted spaces\nindexes = []\nfor heading in table_headings:\n    indexes.append(heading.text.strip())\n\n# Finding all the rows using 'tr' tags\ntable_rows = table.find_all('tr')\n\n# Storing all the data of postal code table in array\ntable_data_array = []\nfor tr in table_rows:\n    td = tr.find_all('td')\n    row = [t.text.strip() for t in td]\n    table_data_array.append(row)\n\n# Creating a dataframe from array and indexes\ndf = pd.DataFrame(table_data_array, columns=indexes)"
        },
        {
            "cell_type": "markdown",
            "metadata": {},
            "source": "## Step 3: Cleaning the dataframe"
        },
        {
            "cell_type": "code",
            "execution_count": 4,
            "metadata": {},
            "outputs": [],
            "source": "# Dropping rows with a borough that is Not assigned\nfiltered_df = df[(df['Borough'] != 'Not assigned')]\n# Dropping rows that contains NA values\nfiltered_df = filtered_df.dropna()"
        },
        {
            "cell_type": "code",
            "execution_count": 5,
            "metadata": {},
            "outputs": [],
            "source": "# Resetting the index and dropping the old index after the cleaning\nfiltered_df = filtered_df.reset_index(drop=True)"
        },
        {
            "cell_type": "code",
            "execution_count": 6,
            "metadata": {},
            "outputs": [],
            "source": "# If a cell has a borough but a Not assigned neighborhood, then the neighborhood will be the same as the borough\nfiltered_df['Neighbourhood'] = filtered_df['Neighbourhood'].replace(to_replace='Not assigned', value=filtered_df['Borough'])"
        },
        {
            "cell_type": "markdown",
            "metadata": {},
            "source": "## Step 4: Checking the shape of dataframe"
        },
        {
            "cell_type": "code",
            "execution_count": 7,
            "metadata": {},
            "outputs": [
                {
                    "data": {
                        "text/plain": "(103, 3)"
                    },
                    "execution_count": 7,
                    "metadata": {},
                    "output_type": "execute_result"
                }
            ],
            "source": "# Checking shape of dataframe\nfiltered_df.shape"
        }
    ],
    "metadata": {
        "kernelspec": {
            "display_name": "Python 3.7",
            "language": "python",
            "name": "python3"
        },
        "language_info": {
            "codemirror_mode": {
                "name": "ipython",
                "version": 3
            },
            "file_extension": ".py",
            "mimetype": "text/x-python",
            "name": "python",
            "nbconvert_exporter": "python",
            "pygments_lexer": "ipython3",
            "version": "3.7.9"
        }
    },
    "nbformat": 4,
    "nbformat_minor": 1
}