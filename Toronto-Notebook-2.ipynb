{
    "cells": [
        {
            "cell_type": "markdown",
            "metadata": {},
            "source": "## Step 0: Import libraries"
        },
        {
            "cell_type": "code",
            "execution_count": 1,
            "metadata": {},
            "outputs": [],
            "source": "# Importing the essential libraries\nimport requests    # to use get method of requests library to send a GET request\nimport pandas as pd     # to organize the data into dataframes\nfrom bs4 import BeautifulSoup    # to parse html web pages"
        },
        {
            "cell_type": "markdown",
            "metadata": {},
            "source": "## Step 1: Send a get request to Wikipedia page"
        },
        {
            "cell_type": "code",
            "execution_count": 2,
            "metadata": {},
            "outputs": [],
            "source": "#Sending a GET request to 'https://en.wikipedia.org/wiki/List_of_postal_codes_of_Canada:_M'\nresponse = requests.get('https://en.wikipedia.org/wiki/List_of_postal_codes_of_Canada:_M')"
        },
        {
            "cell_type": "markdown",
            "metadata": {},
            "source": "## Step 2: Parsing the output html page"
        },
        {
            "cell_type": "code",
            "execution_count": 3,
            "metadata": {},
            "outputs": [],
            "source": "# Parsing the output using BeautifulSoup and html parser\ncomplete_soup = BeautifulSoup(response.content, 'html.parser')\n\n# Extracting the wikipedia postal index table\ntable = complete_soup.find('table', class_ = 'wikitable sortable')\n\n# Find all the table headings using 'th' tags i.e. Postal Code, Borough, Neighbourhood\ntable_headings = table.find_all('th')\n\n# Storing table headings in 'indexes' array and stripping any unwanted spaces\nindexes = []\nfor heading in table_headings:\n    indexes.append(heading.text.strip())\n\n# Finding all the rows using 'tr' tags\ntable_rows = table.find_all('tr')\n\n# Storing all the data of postal code table in array\ntable_data_array = []\nfor tr in table_rows:\n    td = tr.find_all('td')\n    row = [t.text.strip() for t in td]\n    table_data_array.append(row)\n\n# Creating a dataframe from array and indexes\ndf = pd.DataFrame(table_data_array, columns=indexes)"
        },
        {
            "cell_type": "markdown",
            "metadata": {},
            "source": "## Step 3: Cleaning the dataframe"
        },
        {
            "cell_type": "code",
            "execution_count": 4,
            "metadata": {},
            "outputs": [],
            "source": "# Dropping rows with a borough that is Not assigned\nfiltered_df = df[(df['Borough'] != 'Not assigned')]\n# Dropping rows that contains NA values\nfiltered_df = filtered_df.dropna()"
        },
        {
            "cell_type": "code",
            "execution_count": 5,
            "metadata": {},
            "outputs": [],
            "source": "# Resetting the index and dropping the old index after the cleaning\nfiltered_df = filtered_df.reset_index(drop=True)"
        },
        {
            "cell_type": "code",
            "execution_count": 6,
            "metadata": {},
            "outputs": [],
            "source": "# If a cell has a borough but a Not assigned neighborhood, then the neighborhood will be the same as the borough\nfiltered_df['Neighbourhood'] = filtered_df['Neighbourhood'].replace(to_replace='Not assigned', value=filtered_df['Borough'])"
        },
        {
            "cell_type": "markdown",
            "metadata": {},
            "source": "## Step 4: Checking the shape of dataframe"
        },
        {
            "cell_type": "code",
            "execution_count": 7,
            "metadata": {},
            "outputs": [
                {
                    "data": {
                        "text/plain": "(103, 3)"
                    },
                    "execution_count": 7,
                    "metadata": {},
                    "output_type": "execute_result"
                }
            ],
            "source": "# Checking shape of dataframe\nfiltered_df.shape"
        },
        {
            "cell_type": "code",
            "execution_count": 8,
            "metadata": {},
            "outputs": [
                {
                    "name": "stdout",
                    "output_type": "stream",
                    "text": "Requirement already satisfied: geopy in /opt/conda/envs/Python-3.7-main/lib/python3.7/site-packages (2.0.0)\nRequirement already satisfied: geographiclib<2,>=1.49 in /opt/conda/envs/Python-3.7-main/lib/python3.7/site-packages (from geopy) (1.50)\nRequirement already satisfied: folium==0.5.0 in /opt/conda/envs/Python-3.7-main/lib/python3.7/site-packages (0.5.0)\nRequirement already satisfied: jinja2 in /opt/conda/envs/Python-3.7-main/lib/python3.7/site-packages (from folium==0.5.0) (2.11.2)\nRequirement already satisfied: requests in /opt/conda/envs/Python-3.7-main/lib/python3.7/site-packages (from folium==0.5.0) (2.24.0)\nRequirement already satisfied: six in /opt/conda/envs/Python-3.7-main/lib/python3.7/site-packages (from folium==0.5.0) (1.15.0)\nRequirement already satisfied: branca in /opt/conda/envs/Python-3.7-main/lib/python3.7/site-packages (from folium==0.5.0) (0.4.1)\nRequirement already satisfied: MarkupSafe>=0.23 in /opt/conda/envs/Python-3.7-main/lib/python3.7/site-packages (from jinja2->folium==0.5.0) (1.1.1)\nRequirement already satisfied: idna<3,>=2.5 in /opt/conda/envs/Python-3.7-main/lib/python3.7/site-packages (from requests->folium==0.5.0) (2.9)\nRequirement already satisfied: chardet<4,>=3.0.2 in /opt/conda/envs/Python-3.7-main/lib/python3.7/site-packages (from requests->folium==0.5.0) (3.0.4)\nRequirement already satisfied: certifi>=2017.4.17 in /opt/conda/envs/Python-3.7-main/lib/python3.7/site-packages (from requests->folium==0.5.0) (2020.11.8)\nRequirement already satisfied: urllib3!=1.25.0,!=1.25.1,<1.26,>=1.21.1 in /opt/conda/envs/Python-3.7-main/lib/python3.7/site-packages (from requests->folium==0.5.0) (1.25.9)\nLibraries imported.\n"
                }
            ],
            "source": "# Install geopy and folium\n!pip install geopy\n!pip install folium==0.5.0\n\n# Make all the rows visible in dataframe\npd.set_option('display.max_columns', None)\npd.set_option('display.max_rows', None)\n\nimport json # library to handle JSON files\n\nfrom geopy.geocoders import Nominatim # convert an address into latitude and longitude values\n\nimport requests # library to handle requests\nfrom pandas.io.json import json_normalize # tranform JSON file into a pandas dataframe\n\n# Matplotlib and associated plotting modules\nimport matplotlib.cm as cm\nimport matplotlib.colors as colors\n\n# import k-means from clustering stage\nfrom sklearn.cluster import KMeans\n\nimport folium # map rendering library\n\nprint('Libraries imported.')"
        },
        {
            "cell_type": "code",
            "execution_count": 9,
            "metadata": {},
            "outputs": [],
            "source": "## Uncomment below lines to run Nominatim server to get location coordinates. It only gives information for 13 out 103 locations.\n\n\n# def get_coordinates(postal_code):\n#     address = f'{postal_code}, Toronto, Ontario'\n#     latitude = 'NA'\n#     longitude = 'NA'\n#     geolocator = Nominatim(user_agent=\"toronto_explorer\")\n#     location = geolocator.geocode(address)\n#     if(location != None):\n#         latitude = location.latitude\n#         longitude = location.longitude\n\n#     return [latitude, longitude]\n\n# k = filtered_df['Postal Code'].head().apply(lambda x: get_coordinates(x))\n# print(k)"
        },
        {
            "cell_type": "code",
            "execution_count": 10,
            "metadata": {},
            "outputs": [],
            "source": "# Getting coordinates data for above postal codes\ncoordinates_df = pd.read_csv('https://cocl.us/Geospatial_data')"
        },
        {
            "cell_type": "code",
            "execution_count": 11,
            "metadata": {},
            "outputs": [
                {
                    "data": {
                        "text/html": "<div>\n<style scoped>\n    .dataframe tbody tr th:only-of-type {\n        vertical-align: middle;\n    }\n\n    .dataframe tbody tr th {\n        vertical-align: top;\n    }\n\n    .dataframe thead th {\n        text-align: right;\n    }\n</style>\n<table border=\"1\" class=\"dataframe\">\n  <thead>\n    <tr style=\"text-align: right;\">\n      <th></th>\n      <th>Postal Code</th>\n      <th>Borough</th>\n      <th>Neighbourhood</th>\n      <th>Latitude</th>\n      <th>Longitude</th>\n    </tr>\n  </thead>\n  <tbody>\n    <tr>\n      <th>0</th>\n      <td>M3A</td>\n      <td>North York</td>\n      <td>Parkwoods</td>\n      <td>43.753259</td>\n      <td>-79.329656</td>\n    </tr>\n    <tr>\n      <th>1</th>\n      <td>M4A</td>\n      <td>North York</td>\n      <td>Victoria Village</td>\n      <td>43.725882</td>\n      <td>-79.315572</td>\n    </tr>\n    <tr>\n      <th>2</th>\n      <td>M5A</td>\n      <td>Downtown Toronto</td>\n      <td>Regent Park, Harbourfront</td>\n      <td>43.654260</td>\n      <td>-79.360636</td>\n    </tr>\n    <tr>\n      <th>3</th>\n      <td>M6A</td>\n      <td>North York</td>\n      <td>Lawrence Manor, Lawrence Heights</td>\n      <td>43.718518</td>\n      <td>-79.464763</td>\n    </tr>\n    <tr>\n      <th>4</th>\n      <td>M7A</td>\n      <td>Downtown Toronto</td>\n      <td>Queen's Park, Ontario Provincial Government</td>\n      <td>43.662301</td>\n      <td>-79.389494</td>\n    </tr>\n  </tbody>\n</table>\n</div>",
                        "text/plain": "  Postal Code           Borough                                Neighbourhood  \\\n0         M3A        North York                                    Parkwoods   \n1         M4A        North York                             Victoria Village   \n2         M5A  Downtown Toronto                    Regent Park, Harbourfront   \n3         M6A        North York             Lawrence Manor, Lawrence Heights   \n4         M7A  Downtown Toronto  Queen's Park, Ontario Provincial Government   \n\n    Latitude  Longitude  \n0  43.753259 -79.329656  \n1  43.725882 -79.315572  \n2  43.654260 -79.360636  \n3  43.718518 -79.464763  \n4  43.662301 -79.389494  "
                    },
                    "execution_count": 11,
                    "metadata": {},
                    "output_type": "execute_result"
                }
            ],
            "source": "# Merging filtered and coordinates dataframe based on Postal Code column\nmerged_df = pd.merge(filtered_df, coordinates_df, on='Postal Code')\n# Check head of the merged dataframe\nmerged_df.head()"
        },
        {
            "cell_type": "code",
            "execution_count": 12,
            "metadata": {},
            "outputs": [
                {
                    "data": {
                        "text/plain": "North York          24\nDowntown Toronto    19\nScarborough         17\nEtobicoke           12\nCentral Toronto      9\nWest Toronto         6\nEast York            5\nYork                 5\nEast Toronto         5\nMississauga          1\nName: Borough, dtype: int64"
                    },
                    "execution_count": 12,
                    "metadata": {},
                    "output_type": "execute_result"
                }
            ],
            "source": "# Check the number of unique \"Borough\" and each one's corresponding count\nmerged_df['Borough'].value_counts()"
        },
        {
            "cell_type": "code",
            "execution_count": 13,
            "metadata": {},
            "outputs": [],
            "source": "# Getting coordinates of Toronto, to center our Map at Toronto\ndef get_coordinates_of_toronto():\n    address = 'Toronto, Ontario'\n    latitude = 'NA'\n    longitude = 'NA'\n    geolocator = Nominatim(user_agent=\"toronto_explorer\")\n    location = geolocator.geocode(address)\n    # Taking care of the case when the given address does not exist on https://www.openstreetmap.org/#map=4/21.84/82.79\n    if(location != None):\n        latitude = location.latitude\n        longitude = location.longitude\n\n    return [latitude, longitude]"
        },
        {
            "cell_type": "code",
            "execution_count": 14,
            "metadata": {},
            "outputs": [],
            "source": "# Storing Toronto coordinates in a variable\ntoronto_coordinates = get_coordinates_of_toronto()\nlatitude = toronto_coordinates[0]\nlongitude = toronto_coordinates[1]"
        },
        {
            "cell_type": "code",
            "execution_count": 15,
            "metadata": {},
            "outputs": [
                {
                    "data": {
                        "text/html": "<div>\n<style scoped>\n    .dataframe tbody tr th:only-of-type {\n        vertical-align: middle;\n    }\n\n    .dataframe tbody tr th {\n        vertical-align: top;\n    }\n\n    .dataframe thead th {\n        text-align: right;\n    }\n</style>\n<table border=\"1\" class=\"dataframe\">\n  <thead>\n    <tr style=\"text-align: right;\">\n      <th></th>\n      <th>Postal Code</th>\n      <th>Borough</th>\n      <th>Neighbourhood</th>\n      <th>Latitude</th>\n      <th>Longitude</th>\n    </tr>\n  </thead>\n  <tbody>\n    <tr>\n      <th>0</th>\n      <td>M5A</td>\n      <td>Downtown Toronto</td>\n      <td>Regent Park, Harbourfront</td>\n      <td>43.654260</td>\n      <td>-79.360636</td>\n    </tr>\n    <tr>\n      <th>1</th>\n      <td>M7A</td>\n      <td>Downtown Toronto</td>\n      <td>Queen's Park, Ontario Provincial Government</td>\n      <td>43.662301</td>\n      <td>-79.389494</td>\n    </tr>\n    <tr>\n      <th>2</th>\n      <td>M5B</td>\n      <td>Downtown Toronto</td>\n      <td>Garden District, Ryerson</td>\n      <td>43.657162</td>\n      <td>-79.378937</td>\n    </tr>\n    <tr>\n      <th>3</th>\n      <td>M5C</td>\n      <td>Downtown Toronto</td>\n      <td>St. James Town</td>\n      <td>43.651494</td>\n      <td>-79.375418</td>\n    </tr>\n    <tr>\n      <th>4</th>\n      <td>M4E</td>\n      <td>East Toronto</td>\n      <td>The Beaches</td>\n      <td>43.676357</td>\n      <td>-79.293031</td>\n    </tr>\n  </tbody>\n</table>\n</div>",
                        "text/plain": "  Postal Code           Borough                                Neighbourhood  \\\n0         M5A  Downtown Toronto                    Regent Park, Harbourfront   \n1         M7A  Downtown Toronto  Queen's Park, Ontario Provincial Government   \n2         M5B  Downtown Toronto                     Garden District, Ryerson   \n3         M5C  Downtown Toronto                               St. James Town   \n4         M4E      East Toronto                                  The Beaches   \n\n    Latitude  Longitude  \n0  43.654260 -79.360636  \n1  43.662301 -79.389494  \n2  43.657162 -79.378937  \n3  43.651494 -79.375418  \n4  43.676357 -79.293031  "
                    },
                    "execution_count": 15,
                    "metadata": {},
                    "output_type": "execute_result"
                }
            ],
            "source": "# Filtering only the Borough that contain Toronto\nfiltered_merged_df = merged_df[merged_df['Borough'].apply(lambda x: 'toronto' in x.lower())]\n# Resetting and dropping the old index\nfiltered_merged_df.reset_index(drop=True, inplace= True)\n# Check head of the filtered dataframe\nfiltered_merged_df.head()"
        }
    ],
    "metadata": {
        "kernelspec": {
            "display_name": "Python 3.7",
            "language": "python",
            "name": "python3"
        },
        "language_info": {
            "codemirror_mode": {
                "name": "ipython",
                "version": 3
            },
            "file_extension": ".py",
            "mimetype": "text/x-python",
            "name": "python",
            "nbconvert_exporter": "python",
            "pygments_lexer": "ipython3",
            "version": "3.7.9"
        }
    },
    "nbformat": 4,
    "nbformat_minor": 1
}